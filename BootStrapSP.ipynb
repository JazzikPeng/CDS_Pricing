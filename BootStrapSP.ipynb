{
 "cells": [
  {
   "cell_type": "code",
   "execution_count": 1,
   "metadata": {},
   "outputs": [],
   "source": [
    "#!/usr/bin/env python3\n",
    "'''\n",
    "Created on Thu June 5 2018\n",
    "\n",
    "__author__ = \"Zhejian Peng\"\n",
    "__license__ = MIT\n",
    "__credits__ = Lehman Brothers, John Hull's 'Option'\n",
    "__version__ = \"1.0.1\"\n",
    "__maintainer__ = \"Zhejian Peng\"\n",
    "__email__ = 'zhejianpeng@yahoo.com'\n",
    "__status__ = \"Developing\"\n",
    "\n",
    "__update__ =\n",
    "'''\n",
    "# %%\n",
    "# Import library\n",
    "import numpy as np\n",
    "import pandas as pd\n",
    "from scipy.optimize import newton\n",
    "\n",
    "# %%\n",
    "# Define inputs of a cds contract\n",
    "yieldcurveTenor = [0.5, 1, 2, 3, 4, 5]\n",
    "yieldcurveRate = [0.01350, 0.01430, 0.0190, 0.02470, 0.02936, 0.03311]\n",
    "creditcurveTenor = [1, 3, 5, 7]\n",
    "creditcurveSP = [0.99, 0.98, 0.95, 0.92]\n",
    "cdsTenors = [1, 2, 3, 4, 5]\n",
    "cdsSpreads = [0.0110, 0.0120, 0.0130, 0.0140, 0.0150]\n",
    "premiumFrequency = 4\n",
    "defaultFrequency = 12\n",
    "accruedPremium = True\n",
    "recoveryRate = 0.40"
   ]
  },
  {
   "cell_type": "code",
   "execution_count": 112,
   "metadata": {},
   "outputs": [],
   "source": [
    "class cds:\n",
    "    def __init__(self, creditcurve, creditcurveLength, yieldcurve, yieldcurveLength,\n",
    "                 cdsTenor, premiumFrequency, defaultFrequency, accruedPremium, recoveryRate, spread):\n",
    "        '''\n",
    "        double *creditcurve;\n",
    "        int creditcurveLength;\n",
    "        double *yieldcurve;\n",
    "        int yieldcurveLength;\n",
    "        double cdsTenor;\n",
    "        double premiumFrequency;\n",
    "        double defaultFrequency;\n",
    "        int accruedPremium;\n",
    "        double recoveryRate;\n",
    "        double spread;\n",
    "        '''\n",
    "        self.creditcurve = creditcurve\n",
    "        self.creditcurveLength = creditcurveLength\n",
    "        self.yieldcurve = yieldcurve\n",
    "        self.yieldcurveLength = yieldcurveLength\n",
    "        self.cdsTenor = cdsTenor\n",
    "        self.premiumFrequency = premiumFrequency\n",
    "        self.defaultFrequency = defaultFrequency\n",
    "        self.accruedPremium = accruedPremium\n",
    "        self.recoveryRate = recoveryRate\n",
    "        self.spread = spread\n",
    "        \n",
    "    def getDiscountFactor(self, yieldcurveTenor, yieldcurveRate, t):\n",
    "        '''\n",
    "        yieldcurveRate: []\n",
    "        yieldcurveTenor: []\n",
    "        '''\n",
    "        result = -1\n",
    "        min_time_index = 0\n",
    "        max_time_index = len(yieldcurveTenor) - 1\n",
    "\n",
    "        if t < 0:\n",
    "            result = - 1\n",
    "        elif t == 0:\n",
    "            result = 1.0\n",
    "        elif t > 0 and t <= yieldcurveTenor[min_time_index]:\n",
    "            result = np.exp(-t*yieldcurveRate[0])\n",
    "        elif t >= yieldcurveTenor[max_time_index]:\n",
    "            result = np.exp(-t*yieldcurveRate[-1])\n",
    "        else:\n",
    "            for i in range(max_time_index):\n",
    "                # print(t, t >= yieldcurveTenor[i+1] and t < yieldcurveTenor[i+2])\n",
    "                if t >= yieldcurveTenor[i] and t < yieldcurveTenor[i+1]:\n",
    "                   # print(yieldcurveTenor[i], yieldcurveTenor[i+1])\n",
    "                    yield_interpolated = yieldcurveRate[i] + (yieldcurveRate[i+1] - yieldcurveRate[i]) / \\\n",
    "                    (yieldcurveTenor[i+1]-yieldcurveTenor[i]) * (t-yieldcurveTenor[i])\n",
    "                    result = np.exp(-t*yield_interpolated)\n",
    "        return result\n",
    "    \n",
    "    def getSurvivalProbability(self, creditcurveTenor, creditcurveSP, t):\n",
    "        result = -1\n",
    "        min_time_index = 0\n",
    "        max_time_index = len(creditcurveTenor) - 1\n",
    "        if t < 0:\n",
    "            result = -1\n",
    "        elif t == 0:\n",
    "            result = 1\n",
    "        elif t > 0 and t <= creditcurveTenor[min_time_index]:\n",
    "            h = -np.log(creditcurveSP[0] / creditcurveTenor[min_time_index])\n",
    "            result = np.exp(-h*t)\n",
    "        elif t == creditcurveTenor[max_time_index]:\n",
    "            result = creditcurveSP[-1]\n",
    "        elif t > creditcurveTenor[max_time_index]:\n",
    "            h = 0\n",
    "            if len(creditcurveTenor) == 1:\n",
    "                h = h = - np.log(creditcurveSP[-1]) / creditcurveTenor[max_time_index]\n",
    "            else: \n",
    "                h = - np.log(creditcurveSP[-1]/creditcurveSP[-2]) / \\\n",
    "                        (creditcurveTenor[-1]-creditcurveTenor[-2])\n",
    "                result = creditcurveSP[-1] * np.exp(-(t - creditcurveTenor[max_time_index])*h)\n",
    "        else:  # where t is in between min_time and max_time\n",
    "            for i in range(max_time_index):\n",
    "                if t >= creditcurveTenor[i] and t < creditcurveTenor[i+1]:\n",
    "                    h = -np.log(creditcurveSP[i+1]/creditcurveSP[i]) / \\\n",
    "                        (creditcurveTenor[i+1]-creditcurveTenor[i])\n",
    "                    result = creditcurveSP[i] * \\\n",
    "                        np.exp(-(t-creditcurveTenor[i])*h)\n",
    "                        # print('HERE,', creditcurveSP[i])\n",
    "        return result\n"
   ]
  },
  {
   "cell_type": "code",
   "execution_count": 101,
   "metadata": {},
   "outputs": [],
   "source": [
    "def getDiscountFactor(yieldcurveTenor, yieldcurveRate, t):\n",
    "    '''\n",
    "    yieldcurveRate: []\n",
    "    yieldcurveTenor: []\n",
    "    '''\n",
    "    result = -1\n",
    "    min_time_index = 0\n",
    "    max_time_index = len(yieldcurveTenor) - 1\n",
    "\n",
    "    if t < 0:\n",
    "        result = - 1\n",
    "    elif t == 0:\n",
    "        result = 1.0\n",
    "    elif t > 0 and t <= yieldcurveTenor[min_time_index]:\n",
    "        result = np.exp(-t*yieldcurveRate[0])\n",
    "    elif t >= yieldcurveTenor[max_time_index]:\n",
    "        result = np.exp(-t*yieldcurveRate[-1])\n",
    "    else:\n",
    "        for i in range(max_time_index):\n",
    "            # print(t, t >= yieldcurveTenor[i+1] and t < yieldcurveTenor[i+2])\n",
    "            if t >= yieldcurveTenor[i] and t < yieldcurveTenor[i+1]:\n",
    "               # print(yieldcurveTenor[i], yieldcurveTenor[i+1])\n",
    "                yield_interpolated = yieldcurveRate[i] + (yieldcurveRate[i+1] - yieldcurveRate[i]) / \\\n",
    "                (yieldcurveTenor[i+1]-yieldcurveTenor[i]) * (t-yieldcurveTenor[i])\n",
    "                result = np.exp(-t*yield_interpolated)\n",
    "    return result\n",
    "        "
   ]
  },
  {
   "cell_type": "code",
   "execution_count": 100,
   "metadata": {},
   "outputs": [
    {
     "name": "stdout",
     "output_type": "stream",
     "text": [
      "TEST: cds.getDiscountFactor()\n",
      "test t = -1 , yieldRate =  -1\n",
      "test t = 0 , yieldRate =  1.0\n",
      "test t = 1 , yieldRate =  0.98580175937\n",
      "test t = 2 , yieldRate =  0.962712940891\n",
      "test t = 3 , yieldRate =  0.928578831315\n",
      "test t = 4 , yieldRate =  0.889193861778\n",
      "test t = 5 , yieldRate =  0.847427490771\n",
      "test t = 6 , yieldRate =  0.819828587672\n",
      "test t = 1.5 , yieldRate =  0.975334295081\n"
     ]
    }
   ],
   "source": [
    "# Unit Test getDiscountFactor\n",
    "def unit_test_getDiscountFactor(t, yield_true):\n",
    "    epsilon = 10**-6\n",
    "    rate = getDiscountFactor(yieldcurveTenor, yieldcurveRate, t)\n",
    "    print('test t =', t, ', yieldRate = ', rate)\n",
    "    error = rate - yield_true\n",
    "    # print(error)\n",
    "    assert((abs(error) < epsilon))\n",
    "\n",
    "\n",
    "test_t = [-1, 0, 1, 2, 3, 4, 5, 6, 1.5]\n",
    "yield_ans = [-1, 1.000000, 0.985802, 0.962713,\n",
    "             0.928579, 0.889194, 0.847427, 0.819829, 0.975334]\n",
    "print('TEST: cds.getDiscountFactor()')\n",
    "for i, j in zip(test_t, yield_ans):\n",
    "    # print(i, j)\n",
    "    unit_test_getDiscountFactor(i, j)"
   ]
  },
  {
   "cell_type": "code",
   "execution_count": 113,
   "metadata": {},
   "outputs": [],
   "source": [
    "def getSurvivalProbability(creditcurveTenor, creditcurveSP, t):\n",
    "    result = -1\n",
    "    min_time_index = 0\n",
    "    max_time_index = len(creditcurveTenor) - 1\n",
    "    if t < 0:\n",
    "        result = -1\n",
    "    elif t == 0:\n",
    "        result = 1\n",
    "    elif t > 0 and t <= creditcurveTenor[min_time_index]:\n",
    "        h = -np.log(creditcurveSP[0] / creditcurveTenor[min_time_index])\n",
    "        result = np.exp(-h*t)\n",
    "    elif t == creditcurveTenor[max_time_index]:\n",
    "        result = creditcurveSP[-1]\n",
    "    elif t > creditcurveTenor[max_time_index]:\n",
    "        h = 0\n",
    "        if len(creditcurveTenor) == 1:\n",
    "            h = h = - np.log(creditcurveSP[-1]) / creditcurveTenor[max_time_index]\n",
    "        else: \n",
    "            h = - np.log(creditcurveSP[-1]/creditcurveSP[-2]) / \\\n",
    "                    (creditcurveTenor[-1]-creditcurveTenor[-2])\n",
    "            result = creditcurveSP[-1] * np.exp(-(t - creditcurveTenor[max_time_index])*h)\n",
    "    else:  # where t is in between min_time and max_time\n",
    "        for i in range(max_time_index):\n",
    "            if t >= creditcurveTenor[i] and t < creditcurveTenor[i+1]:\n",
    "                h = -np.log(creditcurveSP[i+1]/creditcurveSP[i]) / \\\n",
    "                    (creditcurveTenor[i+1]-creditcurveTenor[i])\n",
    "                result = creditcurveSP[i] * \\\n",
    "                    np.exp(-(t-creditcurveTenor[i])*h)\n",
    "                    # print('HERE,', creditcurveSP[i])\n",
    "    return result\n",
    "        "
   ]
  },
  {
   "cell_type": "code",
   "execution_count": 111,
   "metadata": {},
   "outputs": [
    {
     "name": "stdout",
     "output_type": "stream",
     "text": [
      "\n",
      "TEST: cds.getSurvivalProbability()\n",
      "test t = -1 , survival probability =  -1\n",
      "test t = 0 , survival probability =  1\n",
      "test t = 1 , survival probability =  0.99\n",
      "test t = 3 , survival probability =  0.98\n",
      "test t = 5 , survival probability =  0.95\n",
      "test t = 7 , survival probability =  0.92\n",
      "test t = 10 , survival probability =  0.876766929501\n",
      "test t = 5.5 , survival probability =  0.942409511747\n"
     ]
    }
   ],
   "source": [
    "def unit_test_getSurvivalProbability(t, sp_true):\n",
    "    epsilon = 10**-6\n",
    "    sp = getSurvivalProbability(creditcurveTenor, creditcurveSP, t)\n",
    "    print('test t =', t, ', survival probability = ', sp)\n",
    "    error = sp - sp_true\n",
    "    # print(error)\n",
    "    assert((abs(error) < epsilon))\n",
    "\n",
    "\n",
    "print('\\nTEST: cds.getSurvivalProbability()')\n",
    "\n",
    "test_t = [-1, 0, 1, 3, 5, 7, 10, 5.5]\n",
    "sp_ans = [-1, 1, 0.990000, 0.980000, 0.950000, 0.920000, 0.876767, 0.942410]\n",
    "for i, j in zip(test_t, sp_ans):\n",
    "    unit_test_getSurvivalProbability(i, j)"
   ]
  },
  {
   "cell_type": "code",
   "execution_count": 133,
   "metadata": {},
   "outputs": [],
   "source": [
    "# double calculatePremiumLeg(double *creditcurve, int ncreditcurve, \n",
    "# double *yieldcurve, int nyieldcurve, double cdsMaturity, int numberPremiumPerYear,int accruedPremiumFlag, \n",
    "# double spread, double h) {}\n",
    "def calculatePremiumLeg(creditcurveTenor, creditcurveSP, yieldcurveTenor, yieldcurveRate, cdsMaturity, \n",
    "                        num_premium_year, accruedPremiumFlag, spread, h):\n",
    "    max_time_index = len(creditcurveTenor) - 1\n",
    "    if max_time_index > 0 and cdsMaturity <= creditcurveTenor[max_time_index]:\n",
    "            annuity = 0\n",
    "            accruedPremium = 0\n",
    "            N = int(cdsMaturity*num_premium_year)\n",
    "            for n in range(1, N+1):\n",
    "                tn = n / num_premium_year\n",
    "                tnm1 = (n-1) / num_premium_year\n",
    "                dt = 1.0 / num_premium_year\n",
    "                annuity += dt * \\\n",
    "                    getDiscountFactor(yieldcurveTenor, yieldcurveRate, tn)*getSurvivalProbability(creditcurveTenor, creditcurveSP, tn)\n",
    "                if accruedPremiumFlag:\n",
    "                    accruedPremium += 0.5*dt*getDiscountFactor(yieldcurveTenor, yieldcurveRate, tn)*(\n",
    "                        getSurvivalProbability(creditcurveTenor, creditcurveSP, tnm1) - getSurvivalProbability(creditcurveTenor, creditcurveSP, tn))\n",
    "            # print('HERE', spread)\n",
    "            return spread*(annuity+accruedPremium)\n",
    "    else:  # When the cds maturity is beyond our current credit curve, we need to estimate the survival probability for payment beyond credit curve\n",
    "        annuity = 0\n",
    "        accruedPremium = 0\n",
    "        N = int(cdsMaturity*num_premium_year)\n",
    "        M = creditcurveTenor[max_time_index] * num_premium_year if max_time_index > 0 else 0\n",
    "\n",
    "        for n in range(1, N+1):\n",
    "            if n <= M:\n",
    "                tn = n/num_premium_year\n",
    "                tnm1 = (n-1)/num_premium_year\n",
    "                dt = 1.0 / num_premium_year\n",
    "\n",
    "                annuity += dt * getDiscountFactor(yieldcurveTenor, yieldcurveRate, tn) * \\\n",
    "                getSurvivalProbability(creditcurveTenor, creditcurveSP, tn)\n",
    "                if(accruedPremiumFlag):\n",
    "                    accruedPremium += 0.5*dt*getDiscountFactor(yieldcurveTenor, yieldcurveRate,tn)*(\n",
    "                        getSurvivalProbability(creditcurveTenor, creditcurveSP,tnm1) - \\\n",
    "                        getSurvivalProbability(creditcurveTenor, creditcurveSP,tn))\n",
    "            else:\n",
    "                tn = n/num_premium_year\n",
    "                tnm1 = (n-1)/num_premium_year\n",
    "                tM = M / num_premium_year\n",
    "                dt = 1.0 / num_premium_year\n",
    "\n",
    "                survivalProbability_n = getSurvivalProbability(creditcurveTenor, creditcurveSP, tM) * \\\n",
    "                np.exp(-h*(tn - tM))\n",
    "                survivalProbability_nm1 = 0\n",
    "                if tnm1 <= tM:\n",
    "                    survivalProbability_nm1 = getSurvivalProbability(creditcurveTenor, creditcurveSP, tnm1)\n",
    "                else:\n",
    "                    survivalProbability_nm1 = getSurvivalProbability(creditcurveTenor, creditcurveSP, tM)*\\\n",
    "                    np.exp(-h*(tnm1 - tM))\n",
    "\n",
    "                annuity += dt * getDiscountFactor(yieldcurveTenor, yieldcurveRate, tn)*survivalProbability_n\n",
    "                if accruedPremiumFlag:\n",
    "                    accruedPremium += 0.5*dt * getDiscountFactor(yieldcurveTenor, yieldcurveRate , tn)*\\\n",
    "                    (survivalProbability_nm1-survivalProbability_n)\n",
    "\n",
    "        return spread*(annuity+accruedPremium)"
   ]
  },
  {
   "cell_type": "code",
   "execution_count": 134,
   "metadata": {},
   "outputs": [
    {
     "name": "stdout",
     "output_type": "stream",
     "text": [
      "\n",
      "TEST: cds.calculatePremiumLeg()\n",
      "test param = [4, 0.02, True, 0.01] , premium leg =  0.0750303247347\n",
      "test param = [-1, 0.02, True, 0.01] , premium leg =  0.0\n",
      "test param = [4, 0.02, False, 0.01] , premium leg =  0.0749474288233\n",
      "test param = [4, 0.1, True, 0.1] , premium leg =  0.375151623674\n",
      "test param = [8, 0.1, True, 0.1] , premium leg =  0.678580377742\n"
     ]
    }
   ],
   "source": [
    "def unit_test_calculatePremiumLeg(param, pl_ture):\n",
    "    epsilon = 10**-6\n",
    "    maturity, spread, accruedPremium, h = param\n",
    "    pl = calculatePremiumLeg(creditcurveTenor,creditcurveSP, yieldcurveTenor, yieldcurveRate, \n",
    "                             maturity, 4, accruedPremium, spread,h)\n",
    "    print('test param =', param, ', premium leg = ', pl)\n",
    "    error = pl - pl_ture\n",
    "    assert(abs(error) < epsilon)\n",
    "\n",
    "\n",
    "param = [[4, 0.02, True, 0.01], [-1, 0.02,\n",
    "                                 True, 0.01], [4, 0.02, False, 0.01], [4, 0.1, True, 0.1], [8, 0.1, True, 0.1]]\n",
    "pl_ans = [0.075030, 0, 0.074947, 0.375151623674, 0.678580]\n",
    "\n",
    "print('\\nTEST: cds.calculatePremiumLeg()')\n",
    "for i, j in zip(param, pl_ans):\n",
    "    unit_test_calculatePremiumLeg(i, j)"
   ]
  },
  {
   "cell_type": "code",
   "execution_count": 259,
   "metadata": {},
   "outputs": [],
   "source": [
    "# double calculateDefaultLeg(double *creditcurve, int ncreditcurve, double *yieldcurve, \n",
    "# int nyieldcurve, double cdsMaturity, int numberDefaultIntervalPerYear, double recoveryRate, double h) {\n",
    "\n",
    "def calculateDefaultLeg(creditcurveTenor, creditcurveSP, yieldcurveTenor, yieldcurveRate, \n",
    "                        cdsMaturity, num_default_year, recoveryRate, h):\n",
    "    # spread = self.spread\n",
    "    max_time_index = len(creditcurveTenor) - 1\n",
    "    # accruedPremiumFlag = self.accruedPremium  # True or False\n",
    "    # print(cdsMaturity, recoveryRate, h, num_default_year)\n",
    "    if max_time_index > 0 and cdsMaturity <= creditcurveTenor[max_time_index]:\n",
    "        annuity = 0\n",
    "        N = int(cdsMaturity * num_default_year)\n",
    "        for n in range(1, N+1):\n",
    "            tn = n / num_default_year\n",
    "            tnm1 = (n-1) / num_default_year\n",
    "            annuity += getDiscountFactor(yieldcurveTenor, yieldcurveRate, tn)*(\n",
    "                getSurvivalProbability(creditcurveTenor, creditcurveSP, tnm1) - \\\n",
    "                getSurvivalProbability(creditcurveTenor, creditcurveSP, tn))\n",
    "        return (1-recoveryRate)*annuity\n",
    "    else:  # cdsMaturity > creditcurveTenor[max_time_index]\n",
    "        annuity = 0\n",
    "        N = int(cdsMaturity*num_default_year)\n",
    "        M = creditcurveTenor[max_time_index] * num_default_year if max_time_index > 0 else 0\n",
    "\n",
    "        for n in range(1, N+1):\n",
    "            if n <= M:\n",
    "                tn = n / num_default_year\n",
    "                tnm1 = (n-1) / num_default_year\n",
    "                annuity += getDiscountFactor(yieldcurveTenor, yieldcurveRate, tn)*(\n",
    "                    getSurvivalProbability(creditcurveTenor, creditcurveSP, tnm1) - \\\n",
    "                    getSurvivalProbability(creditcurveTenor, creditcurveSP,tn))\n",
    "            else:  # n > m\n",
    "                tM = M / num_default_year\n",
    "                tn = n / num_default_year\n",
    "                tnm1 = (n-1) / num_default_year\n",
    "\n",
    "                survivalProbability_n = getSurvivalProbability(creditcurveTenor, creditcurveSP, tM)*\\\n",
    "                                        np.exp(-h*(tn-tM))\n",
    "                if tnm1 <= tM:\n",
    "                    survivalProbability_nm1 = getSurvivalProbability(creditcurveTenor, creditcurveSP, tnm1)\n",
    "                else:\n",
    "                    survivalProbability_nm1 = getSurvivalProbability(creditcurveTenor, creditcurveSP,  tM) * np.exp(-h*(tnm1 - tM))\n",
    "                annuity += getDiscountFactor(yieldcurveTenor, yieldcurveRate, tn) * (survivalProbability_nm1 - survivalProbability_n)\n",
    "                # print('HERE', annuity)\n",
    "\n",
    "        return (1-recoveryRate)*annuity\n"
   ]
  },
  {
   "cell_type": "code",
   "execution_count": 260,
   "metadata": {},
   "outputs": [
    {
     "name": "stdout",
     "output_type": "stream",
     "text": [
      "\n",
      "TEST: cds.calculateDefaultLeg()\n",
      "test param =  [4, 12, 0.4, 0.01] , default leg = 0.019946784292\n",
      "test param =  [0, 0, 0, 0] , default leg = 0\n",
      "test param =  [-1, 12, 0.4, 0.01] , default leg = 0.0\n",
      "test param =  [8, 12, 0.4, 0.01] , default leg = 0.0467101054391\n",
      "test param =  [10, 12, 0.5, 0.01] , default leg = 0.045611939249\n",
      "test param =  [3.4, 100, 0.6, 0.1] , default leg = 0.0100527161735\n"
     ]
    }
   ],
   "source": [
    "# %% Unit Test cds.calculateDefaultLeg()\n",
    "def unit_test_calculateDefaultLeg(param, dl_true):\n",
    "    epsilon = 10**-6\n",
    "    maturity, defaultFrequency, recoveryRate, h = param\n",
    "    dl = calculateDefaultLeg(creditcurveTenor, creditcurveSP, yieldcurveTenor, yieldcurveRate, \n",
    "                        maturity,defaultFrequency, recoveryRate, h)\n",
    "    print('test param = ', param, ', default leg =', dl)\n",
    "    error = dl - dl_true\n",
    "    assert(abs(error) < epsilon)\n",
    "\n",
    "    \n",
    "param = [[4, 12, 0.4, 0.01], [0, 0, 0, 0],\n",
    "         [-1, 12, 0.4, 0.01], [8, 12, 0.4, 0.01], [10, 12, 0.5, 0.01], [3.4, 100, 0.6, 0.1]]\n",
    "pl_ans = [0.019947, 0, 0, 0.046710, 0.045612, 0.010053]\n",
    "\n",
    "print('\\nTEST: cds.calculateDefaultLeg()')\n",
    "for i, j in zip(param, pl_ans):\n",
    "    unit_test_calculateDefaultLeg(i,j)"
   ]
  },
  {
   "cell_type": "code",
   "execution_count": 261,
   "metadata": {},
   "outputs": [],
   "source": [
    "yieldcurveTenor = [0.5, 1, 2, 3, 4, 5]\n",
    "yieldcurveRate = [0.01350, 0.01430, 0.0190, 0.02470, 0.02936, 0.03311]\n",
    "creditcurveTenor = [1, 3, 5, 7]\n",
    "creditcurveSP = [0.99, 0.98, 0.95, 0.92]\n",
    "cdsTenors = [1, 2, 3, 4, 5]\n",
    "cdsSpreads = [0.0110, 0.0120, 0.0130, 0.0140, 0.0150]\n",
    "premiumFrequency = 4\n",
    "defaultFrequency = 12\n",
    "accruedPremium = True\n",
    "recoveryRate = 0.40\n",
    "global cdsMaturity \n",
    "global spread\n",
    "def objfunFindHazardRate(h):\n",
    "    # print(cdsMaturity)\n",
    "    premLeg = calculatePremiumLeg(creditcurveTenor, creditcurveSP, yieldcurveTenor, yieldcurveRate, cdsMaturity, premiumFrequency, \n",
    "                                 accruedPremium, spread,h)\n",
    "    defaultLeg = calculateDefaultLeg(creditcurveTenor, creditcurveSP, yieldcurveTenor, yieldcurveRate, cdsMaturity, defaultFrequency, \n",
    "                                 recoveryRate, h)\n",
    "    return premLeg - defaultLeg\n",
    "    "
   ]
  },
  {
   "cell_type": "code",
   "execution_count": 262,
   "metadata": {},
   "outputs": [],
   "source": [
    "# void bootstrapCreditDefaultSwapSpreads\n",
    "# (double *yieldcurve, int *nyieldcurve, double *cdsTenors, int *ncdsTenors, double *spreads, \n",
    "# int *numberPremiumPerYear, int *numberDefaultIntervalPerYear, int *accruedPremiumFlag, \n",
    "# double *recoveryRate, double *output, int * warningFlag) {\n",
    "\n",
    "def bootstrapCDSspread(yieldcurveTenor, yieldcurveRate, cdsTenors, cdsSpreads, premiumFrequency, defaultFrequency, \n",
    "                       accruedPremium, recoveryRate):\n",
    "    yieldcurveLength = len(yieldcurveTenor)\n",
    "    cdsTenorsLength = len(cdsTenors)\n",
    "    \n",
    "    newcreditcurveLength = 0\n",
    "    newcreditcurve = []\n",
    "    survprob = [None]*cdsTenorsLength\n",
    "    hazardRate = [None]*cdsTenorsLength\n",
    "    global creditcurveSP \n",
    "    creditcurveSP = []\n",
    "    global creditcurveTenor \n",
    "    creditcurveTenor = []\n",
    "    for i in range(cdsTenorsLength):\n",
    "        global cdsMaturity \n",
    "        cdsMaturity = cdsTenors[i]\n",
    "        global spread\n",
    "        spread = cdsSpreads[i]\n",
    "        # print(cdsMaturity, spread)\n",
    "        h = newton(objfunFindHazardRate, 0.01)\n",
    "        hazardRate[i] = h\n",
    "        if i==0:\n",
    "            survprob[i] = np.exp(-hazardRate[i]*cdsTenors[i])\n",
    "        else:\n",
    "            survprob[i] = survprob[i-1]*np.exp(-hazardRate[i]*(cdsTenors[i]-cdsTenors[i-1]))\n",
    "        creditcurveTenor.append(cdsTenors[i])\n",
    "        creditcurveSP.append(survprob[i])\n",
    "    return hazardRate, survprob\n",
    "        "
   ]
  },
  {
   "cell_type": "code",
   "execution_count": 263,
   "metadata": {},
   "outputs": [],
   "source": [
    "result = bootstrapCDSspread(yieldcurveTenor, yieldcurveRate, cdsTenors, cdsSpreads, premiumFrequency, defaultFrequency, \n",
    "                       accruedPremium, recoveryRate)"
   ]
  },
  {
   "cell_type": "code",
   "execution_count": 264,
   "metadata": {},
   "outputs": [
    {
     "data": {
      "text/plain": [
       "([0.018311376780972728,\n",
       "  0.019968032128537042,\n",
       "  0.026995336307376588,\n",
       "  0.028858240300829317,\n",
       "  0.032750251934410245],\n",
       " [0.98185525782566352,\n",
       "  0.96244398789389574,\n",
       "  0.93681004393793976,\n",
       "  0.91016171586524852,\n",
       "  0.88083651530873952])"
      ]
     },
     "execution_count": 264,
     "metadata": {},
     "output_type": "execute_result"
    }
   ],
   "source": [
    "result"
   ]
  },
  {
   "cell_type": "code",
   "execution_count": 265,
   "metadata": {},
   "outputs": [
    {
     "data": {
      "text/plain": [
       "array([ 0.261111,  0.513889,  0.766667,  1.019445,  1.272223,  1.525001,\n",
       "        1.777779,  2.030557,  2.286113,  2.538891,  2.788891,  3.044447,\n",
       "        3.300003,  3.552781,  3.802781,  4.058337,  4.313893])"
      ]
     },
     "execution_count": 265,
     "metadata": {},
     "output_type": "execute_result"
    }
   ],
   "source": [
    "# Test on Lehman's result:\n",
    "day_count = [0.261111, 0.252778, 0.252778, 0.252778, 0.252778, 0.252778, 0.252778, 0.252778, 0.255556, 0.252778,\n",
    "             0.250000, 0.255556, 0.255556, 0.252778, 0.250000, 0.255556, 0.255556]\n",
    "days = np.cumsum(day_count)\n",
    "days"
   ]
  },
  {
   "cell_type": "code",
   "execution_count": 266,
   "metadata": {},
   "outputs": [
    {
     "data": {
      "text/plain": [
       "[1, 2, 3, 4, 5]"
      ]
     },
     "execution_count": 266,
     "metadata": {},
     "output_type": "execute_result"
    }
   ],
   "source": [
    "cdsTenors"
   ]
  },
  {
   "cell_type": "code",
   "execution_count": 267,
   "metadata": {},
   "outputs": [
    {
     "data": {
      "text/plain": [
       "[0.011, 0.012, 0.013, 0.014, 0.015]"
      ]
     },
     "execution_count": 267,
     "metadata": {},
     "output_type": "execute_result"
    }
   ],
   "source": [
    "cdsSpreads"
   ]
  },
  {
   "cell_type": "code",
   "execution_count": 268,
   "metadata": {},
   "outputs": [],
   "source": [
    "# Interpolate CDS Spread\n",
    "def interpolatedSpread(cdsTenors, cdsSpreads, t):\n",
    "    result = -1\n",
    "    min_time_index = 0\n",
    "    max_time_index = len(cdsTenors) - 1\n",
    "    if t < 0:\n",
    "        result = -1\n",
    "    elif t == 0:\n",
    "        result = 0.01\n",
    "    elif t < cdsTenors[min_time_index]:\n",
    "        result = 0.01 + (cdsSpreads[1] - cdsSpreads[0]) / (cdsTenors[1] - cdsTenors[0]) * (t)\n",
    "    elif t >= cdsTenors[max_time_index]:\n",
    "        result = cdsSpreads[max_time_index]\n",
    "    else: # in between\n",
    "        for i in range(max_time_index):\n",
    "            if t>= cdsTenors[i] and t<cdsTenors[i+1]:\n",
    "                result = cdsSpreads[i] + (cdsSpreads[i+1] - cdsSpreads[i]) / (cdsTenors[i+1] - cdsTenors[i]) * (t - cdsTenors[i])\n",
    "                \n",
    "    return result\n",
    "        \n",
    "inter_spread=[]            \n",
    "for i in days:\n",
    "    inter_spread.append(interpolatedSpread(cdsTenors, cdsSpreads, i))"
   ]
  },
  {
   "cell_type": "code",
   "execution_count": 274,
   "metadata": {},
   "outputs": [
    {
     "data": {
      "text/plain": [
       "[0.010261111,\n",
       " 0.010513889,\n",
       " 0.010766667000000001,\n",
       " 0.011019444999999999,\n",
       " 0.011272223,\n",
       " 0.011525001,\n",
       " 0.011777779,\n",
       " 0.012030557000000001,\n",
       " 0.012286113,\n",
       " 0.012538891,\n",
       " 0.012788891,\n",
       " 0.013044446999999999,\n",
       " 0.013300002999999999,\n",
       " 0.013552781,\n",
       " 0.013802781,\n",
       " 0.014058337000000001,\n",
       " 0.014313892999999999]"
      ]
     },
     "execution_count": 274,
     "metadata": {},
     "output_type": "execute_result"
    }
   ],
   "source": [
    "inter_spread"
   ]
  },
  {
   "cell_type": "code",
   "execution_count": 272,
   "metadata": {},
   "outputs": [],
   "source": [
    "result = bootstrapCDSspread(yieldcurveTenor, yieldcurveRate, days, inter_spread, premiumFrequency, 200, \n",
    "                       accruedPremium, recoveryRate)"
   ]
  },
  {
   "cell_type": "code",
   "execution_count": 273,
   "metadata": {},
   "outputs": [
    {
     "data": {
      "text/plain": [
       "([0.017082623419957175,\n",
       "  0.017503447273633604,\n",
       "  0.030837442075050743,\n",
       "  0.019012775939841364,\n",
       "  0.020792741462201402,\n",
       "  0.021587162034757041,\n",
       "  0.022474476856375089,\n",
       "  0.023361053793171202,\n",
       "  0.024306326245793472,\n",
       "  0.025171082849043479,\n",
       "  0.02603114753358492,\n",
       "  0.027096462133392278,\n",
       "  0.028046540545934164,\n",
       "  0.028936080974079747,\n",
       "  0.029824340362983939,\n",
       "  0.031024156095347682,\n",
       "  0.032004059557927872],\n",
       " [0.99554947219764445,\n",
       "  0.99115440722485315,\n",
       "  0.9834583663181462,\n",
       "  0.97874319378541152,\n",
       "  0.97361246607307206,\n",
       "  0.96831416578106122,\n",
       "  0.96282871769842338,\n",
       "  0.95715981399533101,\n",
       "  0.95123272126702996,\n",
       "  0.94519953068761886,\n",
       "  0.9390683454416977,\n",
       "  0.93258807590511472,\n",
       "  0.92592768413938431,\n",
       "  0.91917978288136126,\n",
       "  0.91235178689851382,\n",
       "  0.90514688800051191,\n",
       "  0.89777403772335496])"
      ]
     },
     "execution_count": 273,
     "metadata": {},
     "output_type": "execute_result"
    }
   ],
   "source": [
    "result"
   ]
  },
  {
   "cell_type": "code",
   "execution_count": null,
   "metadata": {},
   "outputs": [],
   "source": [
    "newton()"
   ]
  }
 ],
 "metadata": {
  "kernelspec": {
   "display_name": "Python 3",
   "language": "python",
   "name": "python3"
  },
  "language_info": {
   "codemirror_mode": {
    "name": "ipython",
    "version": 3
   },
   "file_extension": ".py",
   "mimetype": "text/x-python",
   "name": "python",
   "nbconvert_exporter": "python",
   "pygments_lexer": "ipython3",
   "version": "3.6.3"
  }
 },
 "nbformat": 4,
 "nbformat_minor": 2
}
